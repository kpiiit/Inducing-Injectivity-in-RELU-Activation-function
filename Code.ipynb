{
  "cells": [
    {
      "cell_type": "markdown",
      "metadata": {
        "id": "vWT0XlL7Ubid"
      },
      "source": [
        "This demo notebook shows how to use the routines in pbe.py to:\n",
        "- Given $W\\in \\mathbb{R}^{m\\times n}$, apply the polytope bias estimation (PBE) on $K=\\mathbb{S},\\mathbb{B}$ to obtain a bias $\\alpha^\\mathbb{K}$ such that $\\operatorname{ReLU}(W\\bullet -\\alpha^\\mathbb{K})$ is injective\n",
        "- Reconstruct $x$ from $y =\\operatorname{ReLU}(Wx-\\alpha^\\mathbb{K})$"
      ]
    },
    {
      "cell_type": "code",
      "execution_count": 25,
      "metadata": {
        "id": "eSg-0TPKUyJA"
      },
      "outputs": [],
      "source": [
        "import torch\n",
        "import numpy as np\n",
        "import cvxpy as cp\n",
        "from scipy.optimize import linprog\n",
        "import scipy as sp\n",
        "import csv\n",
        "from scipy.spatial import ConvexHull\n",
        "\n",
        "\n",
        "def norm_row(W):\n",
        "    \"\"\"\n",
        "    takes a weight matrix W and normalizes the rows\n",
        "    \"\"\"\n",
        "    if torch.is_tensor(W):\n",
        "        W = W.detach().numpy()\n",
        "    norm = np.linalg.norm(W, axis=1)\n",
        "    W_norm = W / norm[:, None]\n",
        "    return W_norm, norm\n",
        "\n",
        "\n",
        "def is_omnidir(W):\n",
        "    \"\"\"\n",
        "    takes a weight matrix W and checks for omnidirectionality, binary output\n",
        "    \"\"\"\n",
        "    if torch.is_tensor(W):\n",
        "        W = W.detach().numpy()\n",
        "    WT = np.transpose(W)\n",
        "    m = W.shape[0]\n",
        "    n = W.shape[1]\n",
        "    if np.linalg.matrix_rank(W) != n:\n",
        "        return print('The system is not a frame')\n",
        "    WW = np.concatenate([WT, [np.ones(m)]])\n",
        "    ones = np.ones(m)\n",
        "    zeros = np.concatenate([np.zeros(n), [1]])\n",
        "    res = linprog(ones, A_eq=WW, b_eq=zeros)\n",
        "\n",
        "    if res['message'] == 'The algorithm terminated successfully and determined that the problem is infeasible.':\n",
        "        return False\n",
        "    elif res['message'] == 'Optimization terminated successfully.':\n",
        "        if np.any(res['x'] < 1e-10) == True:\n",
        "            print('0 lies at or very very close to the boundary of the polytope.')\n",
        "            return True\n",
        "        else:\n",
        "            return True\n",
        "\n",
        "def facets(W):\n",
        "    \"\"\"\n",
        "    computes the facets of the normalized row vectors of the matrix W\n",
        "    use only with low dimensions!!!!\n",
        "    \"\"\"\n",
        "    if torch.is_tensor(W):\n",
        "        W = W.detach().numpy()  \n",
        "    hull = ConvexHull(W)\n",
        "    facets = hull.simplices\n",
        "\n",
        "    return list(list(facet) for facet in facets)\n",
        "\n",
        "def alpha_S(F):\n",
        "    \"\"\"\n",
        "    computes alpha^S for one facet F\n",
        "    \"\"\"\n",
        "    if torch.is_tensor(F):\n",
        "        F = F.detach().numpy()\n",
        "    m, n = F.shape\n",
        "    FT = F.T\n",
        "    sol = []\n",
        "    for i in range(m):\n",
        "        f = np.matmul(F[i, :], FT)\n",
        "        c = cp.Variable(m)\n",
        "        soc_constraints = [cp.SOC(1, FT @ c)]  # cp.SOC(1, x) --> ||x||_2 <= 1.\n",
        "        prob = cp.Problem(cp.Minimize(f @ c), soc_constraints + [c >= np.zeros(m)])\n",
        "        result = prob.solve()\n",
        "        sol.append(prob.value)\n",
        "    return min(sol)\n",
        "\n",
        "\n",
        "def pbe(W, facets, K='sphere', radius=1):\n",
        "    \"\"\"\n",
        "    The Polytope Bias Estimation for approximating the maximal bias on K.\n",
        "\n",
        "    Input: a weight matrix W, the list of vertex-facet incidences, the data domain K as string ('sphere', 'ball') and a radius\n",
        "    Output: radius**-1 * alpha^K\n",
        "    \"\"\"\n",
        "\n",
        "    if torch.is_tensor(W):\n",
        "        W = W.detach().numpy()\n",
        "    if is_omnidir(W) == False:\n",
        "        return 'The frame is not omnidirectional'\n",
        "    W_norm, norm = norm_row(W)\n",
        "\n",
        "    m, n = W.shape\n",
        "    alpha_norm = []\n",
        "\n",
        "    for vert in range(0, m):\n",
        "        neighbours = np.unique(np.array(facets)[[vert in facet for facet in facets]])\n",
        "        corr_vec = W_norm[vert, :].dot(W_norm[neighbours, :].T)\n",
        "        min_corr = np.min(corr_vec)\n",
        "        if min_corr < 0:\n",
        "            min_corr = alpha_S(W_norm[neighbours])\n",
        "        if K == 'sphere':\n",
        "            alpha_norm.append(min_corr)\n",
        "        elif K == 'ball':\n",
        "            alpha_norm.append(np.min([min_corr,0]))\n",
        "        else:\n",
        "            return 'Only sphere and ball are supported as data domains'\n",
        "\n",
        "    return np.multiply(alpha_norm, np.reciprocal(norm.T)) * radius ** (-1)\n",
        "\n",
        "\n",
        "def relu(x, W, b):\n",
        "    \"\"\"\n",
        "    computes the forward pass of a ReLU-layer (convention here: negative bias)\n",
        "    \"\"\"\n",
        "    z = np.dot(W, x) - b\n",
        "    return z * (z > 0)\n",
        "\n",
        "\n",
        "def relu_inv(z, W, b, facets, mode='facet'):\n",
        "    \"\"\"\n",
        "    reconstructs x from z = ReLU(Wx - b) using a facet-specific left-inverse\n",
        "    setting mode to something else will use the whole active sub-frame\n",
        "    \"\"\"\n",
        "    I = np.where(z > 0)[0]\n",
        "    if mode == 'facet':\n",
        "        for i in range(0, len(facets)):\n",
        "            if all(k in I for k in facets[i]):\n",
        "                break\n",
        "        f_ind = facets[i]\n",
        "        print('Facet', i, 'with vertices', f_ind, 'is used for reconstruction.')\n",
        "    else:\n",
        "        f_ind = I\n",
        "    W_f = W[f_ind,:]\n",
        "    b_f = b[f_ind]\n",
        "    z_f = z[f_ind]\n",
        "    x = np.linalg.lstsq(W_f, z_f + b_f, rcond=None)[0] # equivalent to synthesis with the canonical dual frame\n",
        "    return x\n",
        "\n",
        "\n",
        "def fb_ana(w, a=1):\n",
        "    '''\n",
        "    This function returns the frame analysis matrix associated to a collection of filters with decimation factor a.\n",
        "\n",
        "    Usage:\n",
        "            W = fb_ana(w, a)\n",
        "    Output:\n",
        "            The JN/a x N frame analysis matrix associated with w and decimation factor a.\n",
        "    '''\n",
        "\n",
        "    N = w.shape[1]\n",
        "    J = w.shape[0]\n",
        "    assert N % a == 0, \"a must be a divisor of N\"\n",
        "    W = [np.vstack(sp.linalg.circulant(w[j, :]).T[::a]) for j in range(J)]\n",
        "    return np.array(W).reshape(J * N // a, N)\n",
        "\n",
        "\n",
        "def randn_fb(N, J, T=None, scale=True, norm=False, analysis=True, a=1):\n",
        "    '''\n",
        "    This function creates a random filterbank with J filters of support T, sampled form a normal distribution and padded with zeros to have length N.\n",
        "    If scale is set to True, the filters are divided by sqrt(J*T).\n",
        "    If norm is set to True, the filters are normalized.\n",
        "    If analysis is set to True, the function returns the frame analysis matrix of the filterbank.\n",
        "    If analysis is set to False, the function returns the filterbank itself.\n",
        "    The decimation factor a determined the stride in the convolution and must be a divisor of N.\n",
        "\n",
        "    Usage:\n",
        "            W = random_filterbank(N, J)\n",
        "    Output:\n",
        "            The NJxN analysis matrix associated with the filterbank\n",
        "    '''\n",
        "\n",
        "    assert N % a == 0, \"a must be a divisor of N\"\n",
        "\n",
        "    if T == None:\n",
        "        T = N\n",
        "    if scale:\n",
        "        w = np.random.randn(J, T) / np.sqrt(T * J)\n",
        "    if norm:\n",
        "        norm = np.linalg.norm(w, axis=1)\n",
        "        w = w / norm[:, None]\n",
        "    else:\n",
        "        w = np.random.randn(J, T)\n",
        "    w_pad = np.pad(w, ((0, 0), (0, N - T)), constant_values=0)\n",
        "    if analysis:\n",
        "        return fb_ana(w_pad, a=a)\n",
        "\n",
        "    return w_pad"
      ]
    },
    {
      "cell_type": "code",
      "execution_count": 26,
      "metadata": {
        "id": "661SFPOoVgY7"
      },
      "outputs": [],
      "source": [
        "def zcosz(x, W, b):\n",
        "    \"\"\"\n",
        "    computes the forward pass of a zcosz-layer (convention here: negative bias)\n",
        "    \"\"\"\n",
        "    z = np.dot(W, x) - b\n",
        "    return z * np.cos(z)\n",
        "\n",
        "def zcosz_inv(z, W, b, facets, mode='facet'):\n",
        "    \"\"\"\n",
        "    reconstructs x from z = zcosz(Wx - b) using a facet-specific left-inverse\n",
        "    setting mode to something else will use the whole active sub-frame\n",
        "    \"\"\"\n",
        "    I = np.where(z != 0)[0]  # Consider where z is not zero\n",
        "    if mode == 'facet':\n",
        "        for i in range(0, len(facets)):\n",
        "            if all(k in I for k in facets[i]):\n",
        "                break\n",
        "        f_ind = facets[i]\n",
        "        print('Facet', i, 'with vertices', f_ind, 'is used for reconstruction.')\n",
        "    else:\n",
        "        f_ind = I\n",
        "    W_f = W[f_ind,:]\n",
        "    b_f = b[f_ind]\n",
        "    z_f = z[f_ind]\n",
        "    x = np.linalg.lstsq(W_f, z_f * np.cos(z_f) + b_f, rcond=None)[0] # equivalent to synthesis with the canonical dual frame\n",
        "    return x"
      ]
    },
    {
      "cell_type": "code",
      "execution_count": 27,
      "metadata": {
        "id": "vREJK0rZUbie"
      },
      "outputs": [],
      "source": [
        "\n",
        "import numpy as np\n"
      ]
    },
    {
      "cell_type": "markdown",
      "metadata": {
        "id": "p8c01n-nUbif"
      },
      "source": [
        "Examples: Icosahedron and random frame on the sphere"
      ]
    },
    {
      "cell_type": "code",
      "execution_count": 28,
      "metadata": {
        "id": "nqJrvmtVUbif"
      },
      "outputs": [],
      "source": [
        "phi = (1+np.sqrt(5))/2\n",
        "ico = np.array([[0,1,phi],[0,1,-phi],[0,-1,phi],[0,-1,-phi],\n",
        "                [1,phi,0],[-1,phi,0],[1,-phi,0],[-1,-phi,0],\n",
        "                [phi,0,1],[phi,0,-1],[-phi,0,1],[-phi,0,-1]])/(np.sqrt(1+phi**2))\n",
        "ran = norm_row(np.random.randn(12,3))[0]"
      ]
    },
    {
      "cell_type": "markdown",
      "metadata": {
        "id": "4l4YSfSy634W"
      },
      "source": [
        "### tetrahedron and mercedes benz frame"
      ]
    },
    {
      "cell_type": "code",
      "execution_count": 29,
      "metadata": {
        "id": "w2zhjc3z63Ta"
      },
      "outputs": [],
      "source": [
        "tetr = np.array([\n",
        "    [1, 1, 1],\n",
        "    [-1, -1, 1],\n",
        "    [-1, 1, -1],\n",
        "    [1, -1, -1]\n",
        "])\n",
        "mer =  np.array([\n",
        "    [1, 1, 1, 1],\n",
        "    [-1, -1, 1, 1],\n",
        "    [-1, 1, -1, 1],\n",
        "    [-1, 1, 1, -1],\n",
        "    [1, -1, -1, 1],\n",
        "    [1, -1, 1, -1],\n",
        "])\n"
      ]
    },
    {
      "cell_type": "markdown",
      "metadata": {
        "id": "RCoM_LBlUbig"
      },
      "source": [
        "Compute the vertex-facet incidences"
      ]
    },
    {
      "cell_type": "code",
      "execution_count": 30,
      "metadata": {
        "id": "_rerH7aLUbig"
      },
      "outputs": [
        {
          "name": "stdout",
          "output_type": "stream",
          "text": [
            "[[2, 0, 1], [3, 0, 1], [3, 2, 1], [3, 2, 0]]\n",
            "[[3, 2, 0, 1], [4, 2, 0, 1], [5, 3, 0, 1], [5, 4, 0, 1], [5, 3, 2, 1], [5, 4, 2, 1], [5, 3, 2, 0], [5, 4, 2, 0]]\n"
          ]
        }
      ],
      "source": [
        "ico_facets = facets(ico)\n",
        "ran_facets = facets(ran)\n",
        "tetr_facets=facets(tetr)\n",
        "mer_facets = facets(mer)\n",
        "# print(ico_facets)\n",
        "print(tetr_facets)\n",
        "print(mer_facets)\n"
      ]
    },
    {
      "cell_type": "markdown",
      "metadata": {
        "id": "CV1SANHnUbig"
      },
      "source": [
        "PBE on $\\mathbb{B}$: get the upper bias $\\alpha^\\mathbb{B}$"
      ]
    },
    {
      "cell_type": "code",
      "execution_count": 31,
      "metadata": {
        "colab": {
          "base_uri": "https://localhost:8080/"
        },
        "id": "Pz2D1pdxUbig",
        "outputId": "886611d8-91fe-48ad-fd3e-1ce711321acd"
      },
      "outputs": [
        {
          "name": "stdout",
          "output_type": "stream",
          "text": [
            "alpha^S for the Icosahedron frame: [0.4472136 0.4472136 0.4472136 0.4472136 0.4472136 0.4472136 0.4472136\n",
            " 0.4472136 0.4472136 0.4472136 0.4472136 0.4472136]\n",
            "alpha^B for the Icosahedron frame: [0. 0. 0. 0. 0. 0. 0. 0. 0. 0. 0. 0.]\n",
            "alpha^S for a random frame: [ 0.24806507  0.24806507  0.35259811  0.24638486  0.35259811 -0.93397222\n",
            "  0.46086068 -0.93397222 -0.93397222  0.75681802  0.21958016  0.75214379]\n"
          ]
        },
        {
          "name": "stdout",
          "output_type": "stream",
          "text": [
            "alpha^B for a random frame: [ 0.          0.          0.          0.          0.         -0.93397222\n",
            "  0.         -0.93397222 -0.93397222  0.          0.          0.        ]\n"
          ]
        }
      ],
      "source": [
        "alpha_icosphere = pbe(ico, ico_facets, K='sphere', radius=1)\n",
        "print('alpha^S for the Icosahedron frame:', alpha_icosphere)\n",
        "alpha_ico = pbe(ico, ico_facets, K='ball', radius=1)\n",
        "print('alpha^B for the Icosahedron frame:', alpha_ico)\n",
        "alpha_ransphere = pbe(ran, ran_facets, K='sphere', radius=1)\n",
        "print('alpha^S for a random frame:', alpha_ransphere)\n",
        "alpha_ran = pbe(ran, ran_facets, K='ball', radius=1)\n",
        "print('alpha^B for a random frame:', alpha_ran)"
      ]
    },
    {
      "cell_type": "markdown",
      "metadata": {
        "id": "mbGa_itYZjZP"
      },
      "source": [
        "### From theorem 4.4 , alpha_X>=0 , so alpha_B comes out to be zero"
      ]
    },
    {
      "cell_type": "code",
      "execution_count": 32,
      "metadata": {
        "colab": {
          "base_uri": "https://localhost:8080/"
        },
        "id": "kqlEEbtr80EE",
        "outputId": "0d5f41c1-bdbf-40c3-f0ba-8915f71b28a7"
      },
      "outputs": [
        {
          "name": "stdout",
          "output_type": "stream",
          "text": [
            "alpha^B for the tetrahedron frame: [-0.57735027 -0.57735027 -0.57735027 -0.57735027]\n",
            "alpha^B for mercedes-benz frame in R4: [ 0.   0.  -0.5  0.   0.  -0.5]\n"
          ]
        }
      ],
      "source": [
        "alpha_ico3 = pbe(tetr, tetr_facets, K='ball', radius=1)\n",
        "alpha_ran3 = pbe(mer, mer_facets, K='ball', radius=1)\n",
        "print('alpha^B for the tetrahedron frame:', alpha_ico3)\n",
        "print('alpha^B for mercedes-benz frame in R4:', alpha_ran3)"
      ]
    },
    {
      "cell_type": "markdown",
      "metadata": {
        "id": "PU3YFkKXUbih"
      },
      "source": [
        "Reconstruction of a random vector"
      ]
    },
    {
      "cell_type": "code",
      "execution_count": 33,
      "metadata": {
        "colab": {
          "base_uri": "https://localhost:8080/"
        },
        "id": "QnyHvpvlUbih",
        "outputId": "45164fa2-a306-4455-e041-05c2df0d1758"
      },
      "outputs": [
        {
          "name": "stdout",
          "output_type": "stream",
          "text": [
            "Facet 0 with vertices [2, 3, 5] is used for reconstruction.\n",
            "Error for random polytope: 4.710277376051325e-16\n"
          ]
        }
      ],
      "source": [
        "x = np.random.randn(3)\n",
        "x = x/np.linalg.norm(x)\n",
        "z = relu(x, ran, alpha_ran)\n",
        "x_hat = relu_inv(z, ran, alpha_ran, ran_facets)\n",
        "print('Error for random polytope:', np.linalg.norm(x-x_hat))"
      ]
    },
    {
      "cell_type": "code",
      "execution_count": 34,
      "metadata": {
        "colab": {
          "base_uri": "https://localhost:8080/"
        },
        "id": "cT4d4U3rXyck",
        "outputId": "f8c87dd6-dd5a-45cc-a81f-3735642d70a9"
      },
      "outputs": [
        {
          "name": "stdout",
          "output_type": "stream",
          "text": [
            "Facet 0 with vertices [5, 0, 10] is used for reconstruction.\n",
            "Error for icosahedron: 3.510833468576701e-16\n"
          ]
        }
      ],
      "source": [
        "z1 = relu(x, ico, alpha_ico)\n",
        "x_hat1 = relu_inv(z1,ico, alpha_ico, ico_facets)\n",
        "print('Error for icosahedron:', np.linalg.norm(x-x_hat1))"
      ]
    },
    {
      "cell_type": "code",
      "execution_count": 35,
      "metadata": {
        "colab": {
          "base_uri": "https://localhost:8080/"
        },
        "id": "OknV-P9wam6v",
        "outputId": "a19d72aa-513a-4290-d779-466ccf4a9a32"
      },
      "outputs": [
        {
          "name": "stdout",
          "output_type": "stream",
          "text": [
            "Facet 0 with vertices [2, 0, 1] is used for reconstruction.\n",
            "Error for tetrahedron: 3.3306690738754696e-16\n"
          ]
        }
      ],
      "source": [
        "z2 = relu(x, tetr, alpha_ico3)\n",
        "x_hat2 = relu_inv(z2,tetr, alpha_ico3, tetr_facets)\n",
        "print('Error for tetrahedron:', np.linalg.norm(x-x_hat2))"
      ]
    },
    {
      "cell_type": "markdown",
      "metadata": {
        "id": "dn3kpMp0Phjk"
      },
      "source": [
        "# zcosz activation function"
      ]
    },
    {
      "cell_type": "markdown",
      "metadata": {
        "id": "lrmswkJ9VG5O"
      },
      "source": [
        "### relu activation functions generally has more stable gradient as compared to zcosz, especially for a wider range of inputs."
      ]
    },
    {
      "cell_type": "code",
      "execution_count": 36,
      "metadata": {
        "colab": {
          "base_uri": "https://localhost:8080/"
        },
        "id": "lnwH9avFV4-Z",
        "outputId": "a012dcc7-f209-41cf-9210-fb27a18ba569"
      },
      "outputs": [
        {
          "name": "stdout",
          "output_type": "stream",
          "text": [
            "Facet 0 with vertices [2, 3, 5] is used for reconstruction.\n",
            "Error for random polytope: 0.010473104331676463\n",
            "Facet 0 with vertices [5, 0, 10] is used for reconstruction.\n",
            "Error for icosahedron: 0.39372505759086157\n",
            "Facet 0 with vertices [2, 0, 1] is used for reconstruction.\n",
            "Error for tetrahedron: 0.8910252368837295\n"
          ]
        }
      ],
      "source": [
        "x = np.random.randn(3)\n",
        "x = x/np.linalg.norm(x)\n",
        "\n",
        "z = zcosz(x, ran, alpha_ran)\n",
        "x_hat = zcosz_inv(z, ran, alpha_ran, ran_facets)\n",
        "print('Error for random polytope:', np.linalg.norm(x-x_hat))\n",
        "z1 = zcosz(x, ico, alpha_ico)\n",
        "x_hat1 = zcosz_inv(z1,ico, alpha_ico, ico_facets)\n",
        "print('Error for icosahedron:', np.linalg.norm(x-x_hat1))\n",
        "z2 = zcosz(x, tetr, alpha_ico3)\n",
        "x_hat2 = zcosz_inv(z2,tetr, alpha_ico3, tetr_facets)\n",
        "print('Error for tetrahedron:', np.linalg.norm(x-x_hat2))\n",
        "# z3 = zcosz(x, mer, alpha_ran3)\n",
        "# x_hat3 = zcosz_inv(z2,mer, alpha_ran3, mer_facets)\n",
        "# print('Error for tetrahedron:', np.linalg.norm(x-x_hat3))"
      ]
    },
    {
      "cell_type": "markdown",
      "metadata": {
        "id": "-z3qWkvBUVSj"
      },
      "source": [
        "### Impact on error: For larger values of z, the multiplication by z amplifies the cosine function, leading to a larger difference between zcosz and the regular cosine function (cos(z)). This difference is captured in the absolute error calculation (np.abs(z - np.cos(z)))."
      ]
    }
  ],
  "metadata": {
    "colab": {
      "provenance": []
    },
    "kernelspec": {
      "display_name": "Python 3 (ipykernel)",
      "language": "python",
      "name": "python3"
    },
    "language_info": {
      "codemirror_mode": {
        "name": "ipython",
        "version": 3
      },
      "file_extension": ".py",
      "mimetype": "text/x-python",
      "name": "python",
      "nbconvert_exporter": "python",
      "pygments_lexer": "ipython3",
      "version": "3.10.12"
    },
    "vscode": {
      "interpreter": {
        "hash": "69599b8b230edd595963a4c28761c9972651de0c85749bedb88c2c1597573974"
      }
    }
  },
  "nbformat": 4,
  "nbformat_minor": 0
}
